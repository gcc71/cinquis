{
 "cells": [
  {
   "cell_type": "code",
   "execution_count": 1,
   "id": "3975f2bd",
   "metadata": {},
   "outputs": [],
   "source": [
    "import pandas as pd\n",
    "from sklearn.datasets import load_iris\n",
    "from sklearn.model_selection import train_test_split\n",
    "from sklearn.preprocessing import StandardScaler\n",
    "from sklearn.decomposition import PCA\n",
    "from sklearn.pipeline import Pipeline\n",
    "from sklearn.linear_model import LogisticRegression\n",
    "from sklearn.tree import DecisionTreeClassifier\n",
    "from sklearn.ensemble import RandomForestClassifier\n",
    "from sklearn import preprocessing\n",
    "from sklearn import utils"
   ]
  },
  {
   "cell_type": "code",
   "execution_count": 2,
   "id": "8b63f899",
   "metadata": {},
   "outputs": [],
   "source": [
    "from sklearn.neighbors import KNeighborsClassifier\n"
   ]
  },
  {
   "cell_type": "code",
   "execution_count": 3,
   "id": "0286ed56",
   "metadata": {},
   "outputs": [],
   "source": [
    "import numpy as np"
   ]
  },
  {
   "cell_type": "code",
   "execution_count": 4,
   "id": "dbc53f93",
   "metadata": {},
   "outputs": [],
   "source": [
    "df = pd.read_csv('PLACES__County_Data__GIS_Friendly_Format___2021_release.csv')\n"
   ]
  },
  {
   "cell_type": "code",
   "execution_count": 5,
   "id": "7cd9b838",
   "metadata": {},
   "outputs": [
    {
     "data": {
      "text/html": [
       "<div>\n",
       "<style scoped>\n",
       "    .dataframe tbody tr th:only-of-type {\n",
       "        vertical-align: middle;\n",
       "    }\n",
       "\n",
       "    .dataframe tbody tr th {\n",
       "        vertical-align: top;\n",
       "    }\n",
       "\n",
       "    .dataframe thead th {\n",
       "        text-align: right;\n",
       "    }\n",
       "</style>\n",
       "<table border=\"1\" class=\"dataframe\">\n",
       "  <thead>\n",
       "    <tr style=\"text-align: right;\">\n",
       "      <th></th>\n",
       "      <th>StateAbbr</th>\n",
       "      <th>StateDesc</th>\n",
       "      <th>CountyName</th>\n",
       "      <th>CountyFIPS</th>\n",
       "      <th>TotalPopulation</th>\n",
       "      <th>ACCESS2_CrudePrev</th>\n",
       "      <th>ACCESS2_Crude95CI</th>\n",
       "      <th>ACCESS2_AdjPrev</th>\n",
       "      <th>ACCESS2_Adj95CI</th>\n",
       "      <th>ARTHRITIS_CrudePrev</th>\n",
       "      <th>...</th>\n",
       "      <th>SLEEP_Adj95CI</th>\n",
       "      <th>STROKE_CrudePrev</th>\n",
       "      <th>STROKE_Crude95CI</th>\n",
       "      <th>STROKE_AdjPrev</th>\n",
       "      <th>STROKE_Adj95CI</th>\n",
       "      <th>TEETHLOST_CrudePrev</th>\n",
       "      <th>TEETHLOST_Crude95CI</th>\n",
       "      <th>TEETHLOST_AdjPrev</th>\n",
       "      <th>TEETHLOST_Adj95CI</th>\n",
       "      <th>Geolocation</th>\n",
       "    </tr>\n",
       "  </thead>\n",
       "  <tbody>\n",
       "    <tr>\n",
       "      <th>0</th>\n",
       "      <td>NC</td>\n",
       "      <td>North Carolina</td>\n",
       "      <td>Warren</td>\n",
       "      <td>37185</td>\n",
       "      <td>19731</td>\n",
       "      <td>21.8</td>\n",
       "      <td>(19.2, 24.6)</td>\n",
       "      <td>23.3</td>\n",
       "      <td>(20.4, 26.2)</td>\n",
       "      <td>35.6</td>\n",
       "      <td>...</td>\n",
       "      <td>(40.3, 42.8)</td>\n",
       "      <td>6.7</td>\n",
       "      <td>( 6.1,  7.2)</td>\n",
       "      <td>4.8</td>\n",
       "      <td>( 4.5,  5.2)</td>\n",
       "      <td>23.5</td>\n",
       "      <td>(18.3, 29.1)</td>\n",
       "      <td>23.9</td>\n",
       "      <td>(18.6, 29.6)</td>\n",
       "      <td>POINT (-78.10670979 36.39679821)</td>\n",
       "    </tr>\n",
       "    <tr>\n",
       "      <th>1</th>\n",
       "      <td>SC</td>\n",
       "      <td>South Carolina</td>\n",
       "      <td>Aiken</td>\n",
       "      <td>45003</td>\n",
       "      <td>170872</td>\n",
       "      <td>18.9</td>\n",
       "      <td>(16.4, 21.6)</td>\n",
       "      <td>19.7</td>\n",
       "      <td>(17.0, 22.4)</td>\n",
       "      <td>30.8</td>\n",
       "      <td>...</td>\n",
       "      <td>(36.0, 38.5)</td>\n",
       "      <td>4.2</td>\n",
       "      <td>( 3.8,  4.7)</td>\n",
       "      <td>3.5</td>\n",
       "      <td>( 3.2,  3.8)</td>\n",
       "      <td>15.8</td>\n",
       "      <td>(10.6, 21.5)</td>\n",
       "      <td>16.2</td>\n",
       "      <td>(10.9, 21.9)</td>\n",
       "      <td>POINT (-81.63469146 33.54455984)</td>\n",
       "    </tr>\n",
       "    <tr>\n",
       "      <th>2</th>\n",
       "      <td>SC</td>\n",
       "      <td>South Carolina</td>\n",
       "      <td>Calhoun</td>\n",
       "      <td>45017</td>\n",
       "      <td>14553</td>\n",
       "      <td>18.7</td>\n",
       "      <td>(16.4, 21.0)</td>\n",
       "      <td>20.0</td>\n",
       "      <td>(17.6, 22.6)</td>\n",
       "      <td>33.3</td>\n",
       "      <td>...</td>\n",
       "      <td>(38.0, 40.6)</td>\n",
       "      <td>5.3</td>\n",
       "      <td>( 4.8,  5.8)</td>\n",
       "      <td>3.9</td>\n",
       "      <td>( 3.6,  4.3)</td>\n",
       "      <td>17.4</td>\n",
       "      <td>(12.8, 22.7)</td>\n",
       "      <td>17.9</td>\n",
       "      <td>(13.3, 23.3)</td>\n",
       "      <td>POINT (-80.78010777 33.67449063)</td>\n",
       "    </tr>\n",
       "    <tr>\n",
       "      <th>3</th>\n",
       "      <td>SC</td>\n",
       "      <td>South Carolina</td>\n",
       "      <td>Darlington</td>\n",
       "      <td>45031</td>\n",
       "      <td>66618</td>\n",
       "      <td>20.1</td>\n",
       "      <td>(17.4, 22.8)</td>\n",
       "      <td>21.0</td>\n",
       "      <td>(18.1, 23.9)</td>\n",
       "      <td>32.2</td>\n",
       "      <td>...</td>\n",
       "      <td>(40.6, 43.1)</td>\n",
       "      <td>5.2</td>\n",
       "      <td>( 4.8,  5.7)</td>\n",
       "      <td>4.3</td>\n",
       "      <td>( 3.9,  4.6)</td>\n",
       "      <td>20.1</td>\n",
       "      <td>(14.8, 25.8)</td>\n",
       "      <td>20.5</td>\n",
       "      <td>(15.3, 26.6)</td>\n",
       "      <td>POINT (-79.95862066 34.33213727)</td>\n",
       "    </tr>\n",
       "    <tr>\n",
       "      <th>4</th>\n",
       "      <td>SC</td>\n",
       "      <td>South Carolina</td>\n",
       "      <td>Florence</td>\n",
       "      <td>45041</td>\n",
       "      <td>138293</td>\n",
       "      <td>19.2</td>\n",
       "      <td>(16.7, 21.8)</td>\n",
       "      <td>19.8</td>\n",
       "      <td>(17.1, 22.6)</td>\n",
       "      <td>29.6</td>\n",
       "      <td>...</td>\n",
       "      <td>(39.6, 42.3)</td>\n",
       "      <td>4.6</td>\n",
       "      <td>( 4.2,  5.1)</td>\n",
       "      <td>4.0</td>\n",
       "      <td>( 3.7,  4.4)</td>\n",
       "      <td>17.2</td>\n",
       "      <td>(12.5, 22.6)</td>\n",
       "      <td>17.7</td>\n",
       "      <td>(12.8, 23.5)</td>\n",
       "      <td>POINT (-79.70209086 34.024508)</td>\n",
       "    </tr>\n",
       "  </tbody>\n",
       "</table>\n",
       "<p>5 rows × 126 columns</p>\n",
       "</div>"
      ],
      "text/plain": [
       "  StateAbbr       StateDesc  CountyName  CountyFIPS  TotalPopulation  \\\n",
       "0        NC  North Carolina      Warren       37185            19731   \n",
       "1        SC  South Carolina       Aiken       45003           170872   \n",
       "2        SC  South Carolina     Calhoun       45017            14553   \n",
       "3        SC  South Carolina  Darlington       45031            66618   \n",
       "4        SC  South Carolina    Florence       45041           138293   \n",
       "\n",
       "   ACCESS2_CrudePrev ACCESS2_Crude95CI  ACCESS2_AdjPrev ACCESS2_Adj95CI  \\\n",
       "0               21.8      (19.2, 24.6)             23.3    (20.4, 26.2)   \n",
       "1               18.9      (16.4, 21.6)             19.7    (17.0, 22.4)   \n",
       "2               18.7      (16.4, 21.0)             20.0    (17.6, 22.6)   \n",
       "3               20.1      (17.4, 22.8)             21.0    (18.1, 23.9)   \n",
       "4               19.2      (16.7, 21.8)             19.8    (17.1, 22.6)   \n",
       "\n",
       "   ARTHRITIS_CrudePrev  ... SLEEP_Adj95CI  STROKE_CrudePrev STROKE_Crude95CI  \\\n",
       "0                 35.6  ...  (40.3, 42.8)               6.7     ( 6.1,  7.2)   \n",
       "1                 30.8  ...  (36.0, 38.5)               4.2     ( 3.8,  4.7)   \n",
       "2                 33.3  ...  (38.0, 40.6)               5.3     ( 4.8,  5.8)   \n",
       "3                 32.2  ...  (40.6, 43.1)               5.2     ( 4.8,  5.7)   \n",
       "4                 29.6  ...  (39.6, 42.3)               4.6     ( 4.2,  5.1)   \n",
       "\n",
       "   STROKE_AdjPrev STROKE_Adj95CI  TEETHLOST_CrudePrev TEETHLOST_Crude95CI  \\\n",
       "0             4.8   ( 4.5,  5.2)                 23.5        (18.3, 29.1)   \n",
       "1             3.5   ( 3.2,  3.8)                 15.8        (10.6, 21.5)   \n",
       "2             3.9   ( 3.6,  4.3)                 17.4        (12.8, 22.7)   \n",
       "3             4.3   ( 3.9,  4.6)                 20.1        (14.8, 25.8)   \n",
       "4             4.0   ( 3.7,  4.4)                 17.2        (12.5, 22.6)   \n",
       "\n",
       "   TEETHLOST_AdjPrev TEETHLOST_Adj95CI                       Geolocation  \n",
       "0               23.9      (18.6, 29.6)  POINT (-78.10670979 36.39679821)  \n",
       "1               16.2      (10.9, 21.9)  POINT (-81.63469146 33.54455984)  \n",
       "2               17.9      (13.3, 23.3)  POINT (-80.78010777 33.67449063)  \n",
       "3               20.5      (15.3, 26.6)  POINT (-79.95862066 34.33213727)  \n",
       "4               17.7      (12.8, 23.5)    POINT (-79.70209086 34.024508)  \n",
       "\n",
       "[5 rows x 126 columns]"
      ]
     },
     "execution_count": 5,
     "metadata": {},
     "output_type": "execute_result"
    }
   ],
   "source": [
    "df.head(5)"
   ]
  },
  {
   "cell_type": "code",
   "execution_count": 6,
   "id": "30a246c3",
   "metadata": {},
   "outputs": [
    {
     "data": {
      "text/plain": [
       "(3142, 126)"
      ]
     },
     "execution_count": 6,
     "metadata": {},
     "output_type": "execute_result"
    }
   ],
   "source": [
    "df.shape\n"
   ]
  },
  {
   "cell_type": "code",
   "execution_count": 7,
   "id": "c39a289f",
   "metadata": {},
   "outputs": [],
   "source": [
    "df = df.dropna()"
   ]
  },
  {
   "cell_type": "code",
   "execution_count": 8,
   "id": "4c70da9f",
   "metadata": {},
   "outputs": [
    {
     "data": {
      "text/plain": [
       "(3121, 126)"
      ]
     },
     "execution_count": 8,
     "metadata": {},
     "output_type": "execute_result"
    }
   ],
   "source": [
    "df.drop_duplicates(inplace = True) \n",
    "df.shape\n"
   ]
  },
  {
   "cell_type": "code",
   "execution_count": 9,
   "id": "79968ff3",
   "metadata": {},
   "outputs": [],
   "source": [
    "X = df[['TotalPopulation']]\n",
    "y= df[['CountyFIPS']]"
   ]
  },
  {
   "cell_type": "code",
   "execution_count": 10,
   "id": "74e45b27",
   "metadata": {},
   "outputs": [],
   "source": [
    "from sklearn.model_selection import train_test_split"
   ]
  },
  {
   "cell_type": "code",
   "execution_count": 11,
   "id": "9d239372",
   "metadata": {},
   "outputs": [],
   "source": [
    "X_train, X_test, y_train,y_test, = train_test_split(X, y,test_size=1/3, random_state = 0)"
   ]
  },
  {
   "cell_type": "code",
   "execution_count": 12,
   "id": "f5b2cf76",
   "metadata": {},
   "outputs": [],
   "source": [
    "\n",
    "\n",
    "pipeline_lr=Pipeline([('scalar1',StandardScaler()),\n",
    "                     ('pca1',PCA(n_components=1)),\n",
    "                     ('lr_classifier',LogisticRegression(random_state=0))])\n",
    "\n"
   ]
  },
  {
   "cell_type": "code",
   "execution_count": 13,
   "id": "534d9b1c",
   "metadata": {},
   "outputs": [],
   "source": [
    "\n",
    "\n",
    "pipeline_dt=Pipeline([('scalar2',StandardScaler()),\n",
    "                     ('pca2',PCA(n_components=1)),\n",
    "                     ('dt_classifier',DecisionTreeClassifier())])\n",
    "\n"
   ]
  },
  {
   "cell_type": "code",
   "execution_count": 14,
   "id": "4b2f1446",
   "metadata": {},
   "outputs": [],
   "source": [
    "pipeline_randomforest=Pipeline([('scalar3',StandardScaler()),\n",
    "                     ('pca3',PCA(n_components=1)),\n",
    "                     ('rf_classifier',RandomForestClassifier())])"
   ]
  },
  {
   "cell_type": "code",
   "execution_count": 15,
   "id": "ef792fbe",
   "metadata": {},
   "outputs": [],
   "source": [
    "pipelines = [pipeline_lr, pipeline_dt,  pipeline_randomforest]"
   ]
  },
  {
   "cell_type": "code",
   "execution_count": 16,
   "id": "53dda0bf",
   "metadata": {},
   "outputs": [],
   "source": [
    "best_accuracy=0.0\n",
    "best_classifier=0\n",
    "best_pipeline=\"\""
   ]
  },
  {
   "cell_type": "code",
   "execution_count": null,
   "id": "bd3c78b8",
   "metadata": {},
   "outputs": [
    {
     "name": "stderr",
     "output_type": "stream",
     "text": [
      "C:\\Users\\gabri\\anaconda3\\lib\\site-packages\\sklearn\\linear_model\\_logistic.py:763: ConvergenceWarning: lbfgs failed to converge (status=1):\n",
      "STOP: TOTAL NO. of ITERATIONS REACHED LIMIT.\n",
      "\n",
      "Increase the number of iterations (max_iter) or scale the data as shown in:\n",
      "    https://scikit-learn.org/stable/modules/preprocessing.html\n",
      "Please also refer to the documentation for alternative solver options:\n",
      "    https://scikit-learn.org/stable/modules/linear_model.html#logistic-regression\n",
      "  n_iter_i = _check_optimize_result(\n"
     ]
    }
   ],
   "source": [
    "\n",
    "\n",
    "# Dictionary of pipelines and classifier types for ease of reference\n",
    "pipe_dict = {0: 'Logistic Regression', 1: 'Decision Tree', 2: 'RandomForest' }\n",
    "\n",
    "# Fit the pipelines\n",
    "for pipe in pipelines:\n",
    "    pipe.fit(X_train, y_train.values.ravel())\n",
    "\n"
   ]
  },
  {
   "cell_type": "code",
   "execution_count": null,
   "id": "774dc176",
   "metadata": {},
   "outputs": [],
   "source": [
    "\n",
    "\n",
    "for i,model in enumerate(pipelines):\n",
    "    print(\"{} Test Accuracy: {}\".format(pipe_dict[i],model.score(X_test,y_test)))\n",
    "\n"
   ]
  },
  {
   "cell_type": "code",
   "execution_count": null,
   "id": "91108a48",
   "metadata": {},
   "outputs": [],
   "source": []
  }
 ],
 "metadata": {
  "kernelspec": {
   "display_name": "Python 3 (ipykernel)",
   "language": "python",
   "name": "python3"
  },
  "language_info": {
   "codemirror_mode": {
    "name": "ipython",
    "version": 3
   },
   "file_extension": ".py",
   "mimetype": "text/x-python",
   "name": "python",
   "nbconvert_exporter": "python",
   "pygments_lexer": "ipython3",
   "version": "3.9.7"
  }
 },
 "nbformat": 4,
 "nbformat_minor": 5
}
